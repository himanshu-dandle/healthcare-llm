{
 "cells": [
  {
   "cell_type": "code",
   "execution_count": 49,
   "id": "17e5b7bc-bff4-49a2-9ce1-e6300cf98a48",
   "metadata": {},
   "outputs": [],
   "source": [
    "# 1️⃣ Import Required Libraries\n",
    "import pandas as pd\n",
    "import os\n",
    "\n",
    "# Define paths\n",
    "RAW_DATA_PATH = \"../data/raw/\"\n",
    "PROCESSED_DATA_PATH = \"../data/processed/\""
   ]
  },
  {
   "cell_type": "code",
   "execution_count": 50,
   "id": "de84ef92-00dd-4961-be56-083b57660400",
   "metadata": {},
   "outputs": [],
   "source": [
    "# Ensure processed data directory exists\n",
    "os.makedirs(PROCESSED_DATA_PATH, exist_ok=True)\n"
   ]
  },
  {
   "cell_type": "markdown",
   "id": "275f11f8-319c-4a99-9002-48a14312819f",
   "metadata": {},
   "source": [
    "# 2️⃣ Load Datasets"
   ]
  },
  {
   "cell_type": "code",
   "execution_count": 51,
   "id": "9a1e4b1b-030d-4bbf-a051-4bc1c3b838d1",
   "metadata": {},
   "outputs": [],
   "source": [
    "\n",
    "dataset_path = os.path.join(RAW_DATA_PATH, \"dataset.csv\")\n",
    "description_path = os.path.join(RAW_DATA_PATH, \"symptom_Description.csv\")\n",
    "precaution_path = os.path.join(RAW_DATA_PATH, \"symptom_precaution.csv\")\n",
    "severity_path = os.path.join(RAW_DATA_PATH, \"Symptom-severity.csv\")"
   ]
  },
  {
   "cell_type": "code",
   "execution_count": 52,
   "id": "4f8233b7-074b-4fa9-97f1-07298cd90409",
   "metadata": {},
   "outputs": [],
   "source": [
    "df_disease = pd.read_csv(dataset_path)\n",
    "df_description = pd.read_csv(description_path)\n",
    "df_precaution = pd.read_csv(precaution_path)\n",
    "df_severity = pd.read_csv(severity_path)"
   ]
  },
  {
   "cell_type": "code",
   "execution_count": 53,
   "id": "5e2ca7bf-0b78-4794-bbc9-d17f37e1e42e",
   "metadata": {},
   "outputs": [
    {
     "name": "stdout",
     "output_type": "stream",
     "text": [
      "Columns in dataset.csv: Index(['Disease', 'Symptom_1', 'Symptom_2', 'Symptom_3', 'Symptom_4',\n",
      "       'Symptom_5', 'Symptom_6', 'Symptom_7', 'Symptom_8', 'Symptom_9',\n",
      "       'Symptom_10', 'Symptom_11', 'Symptom_12', 'Symptom_13', 'Symptom_14',\n",
      "       'Symptom_15', 'Symptom_16', 'Symptom_17'],\n",
      "      dtype='object')\n",
      "Columns in symptom_Description.csv: Index(['Disease', 'Description'], dtype='object')\n",
      "Columns in symptom_precaution.csv: Index(['Disease', 'Precaution_1', 'Precaution_2', 'Precaution_3',\n",
      "       'Precaution_4'],\n",
      "      dtype='object')\n",
      "Columns in Symptom-severity.csv: Index(['Symptom', 'weight'], dtype='object')\n"
     ]
    }
   ],
   "source": [
    "# 3️⃣ Inspect Column Names\n",
    "print(\"Columns in dataset.csv:\", df_disease.columns)\n",
    "print(\"Columns in symptom_Description.csv:\", df_description.columns)\n",
    "print(\"Columns in symptom_precaution.csv:\", df_precaution.columns)\n",
    "print(\"Columns in Symptom-severity.csv:\", df_severity.columns)\n"
   ]
  },
  {
   "cell_type": "code",
   "execution_count": 54,
   "id": "52e435f4-c3ab-4d4a-929d-cc622c99fa5f",
   "metadata": {},
   "outputs": [],
   "source": [
    "# 4️⃣ Rename columns for consistency\n",
    "df_disease.columns = df_disease.columns.str.strip()\n",
    "df_description.columns = df_description.columns.str.strip()\n",
    "df_precaution.columns = df_precaution.columns.str.strip()\n",
    "df_severity.columns = df_severity.columns.str.strip()"
   ]
  },
  {
   "cell_type": "code",
   "execution_count": 55,
   "id": "1e4b13a6-db32-4664-8f60-7052e1d6ef06",
   "metadata": {},
   "outputs": [],
   "source": [
    "# 5️⃣ Convert Wide to Long Format for Symptoms\n",
    "df_long = df_disease.melt(id_vars=[\"Disease\"], var_name=\"Symptom_Type\", value_name=\"Symptom\")"
   ]
  },
  {
   "cell_type": "code",
   "execution_count": 57,
   "id": "f310756c-a1e9-4d9b-baa2-32f8db9ae85b",
   "metadata": {},
   "outputs": [],
   "source": [
    "# Remove NaN Symptoms\n",
    "df_long.dropna(subset=[\"Symptom\"], inplace=True)"
   ]
  },
  {
   "cell_type": "code",
   "execution_count": 58,
   "id": "9d70237d-fc01-457c-9299-1c5b7d6a292e",
   "metadata": {},
   "outputs": [],
   "source": [
    "# 6️⃣ Standardize Symptoms Names\n",
    "df_long[\"Symptom\"] = df_long[\"Symptom\"].str.strip().str.lower()\n",
    "df_severity[\"Symptom\"] = df_severity[\"Symptom\"].str.strip().str.lower()"
   ]
  },
  {
   "cell_type": "code",
   "execution_count": 59,
   "id": "1319d30b-d305-478d-a3e9-f4272ef027b2",
   "metadata": {},
   "outputs": [],
   "source": [
    "# 7️⃣ Merge Severity Data\n",
    "df_long = df_long.merge(df_severity, on=\"Symptom\", how=\"left\")"
   ]
  },
  {
   "cell_type": "code",
   "execution_count": 60,
   "id": "8e420d64-f046-4a1c-9fb0-eabff9ee8412",
   "metadata": {},
   "outputs": [
    {
     "name": "stderr",
     "output_type": "stream",
     "text": [
      "C:\\Users\\Himanshu\\AppData\\Local\\Temp\\ipykernel_25360\\2161991473.py:2: FutureWarning: A value is trying to be set on a copy of a DataFrame or Series through chained assignment using an inplace method.\n",
      "The behavior will change in pandas 3.0. This inplace method will never work because the intermediate object on which we are setting values always behaves as a copy.\n",
      "\n",
      "For example, when doing 'df[col].method(value, inplace=True)', try using 'df.method({col: value}, inplace=True)' or df[col] = df[col].method(value) instead, to perform the operation inplace on the original object.\n",
      "\n",
      "\n",
      "  df_long[\"weight\"].fillna(0, inplace=True)  # If severity is missing, assign 0\n"
     ]
    }
   ],
   "source": [
    "# 8️⃣ Handle Missing Severity Scores\n",
    "df_long[\"weight\"].fillna(0, inplace=True)  # If severity is missing, assign 0"
   ]
  },
  {
   "cell_type": "code",
   "execution_count": 61,
   "id": "3dbaa50e-423d-4613-8a2e-742c471ee2af",
   "metadata": {},
   "outputs": [
    {
     "name": "stdout",
     "output_type": "stream",
     "text": [
      "✅ Processed dataset saved at: ../data/processed/disease_symptoms_severity.csv\n"
     ]
    }
   ],
   "source": [
    "# 9️⃣ Save Cleaned Dataset\n",
    "processed_file_path = os.path.join(PROCESSED_DATA_PATH, \"disease_symptoms_severity.csv\")\n",
    "df_long.to_csv(processed_file_path, index=False)\n",
    "\n",
    "print(f\"✅ Processed dataset saved at: {processed_file_path}\")"
   ]
  },
  {
   "cell_type": "code",
   "execution_count": 62,
   "id": "733e0128-3aa8-48fb-a3c3-521e67cd4a6b",
   "metadata": {},
   "outputs": [
    {
     "data": {
      "text/html": [
       "<div>\n",
       "<style scoped>\n",
       "    .dataframe tbody tr th:only-of-type {\n",
       "        vertical-align: middle;\n",
       "    }\n",
       "\n",
       "    .dataframe tbody tr th {\n",
       "        vertical-align: top;\n",
       "    }\n",
       "\n",
       "    .dataframe thead th {\n",
       "        text-align: right;\n",
       "    }\n",
       "</style>\n",
       "<table border=\"1\" class=\"dataframe\">\n",
       "  <thead>\n",
       "    <tr style=\"text-align: right;\">\n",
       "      <th></th>\n",
       "      <th>Disease</th>\n",
       "      <th>Symptom_Type</th>\n",
       "      <th>Symptom</th>\n",
       "      <th>weight</th>\n",
       "    </tr>\n",
       "  </thead>\n",
       "  <tbody>\n",
       "    <tr>\n",
       "      <th>0</th>\n",
       "      <td>Fungal infection</td>\n",
       "      <td>Symptom_1</td>\n",
       "      <td>itching</td>\n",
       "      <td>1.0</td>\n",
       "    </tr>\n",
       "    <tr>\n",
       "      <th>1</th>\n",
       "      <td>Fungal infection</td>\n",
       "      <td>Symptom_1</td>\n",
       "      <td>skin_rash</td>\n",
       "      <td>3.0</td>\n",
       "    </tr>\n",
       "    <tr>\n",
       "      <th>2</th>\n",
       "      <td>Fungal infection</td>\n",
       "      <td>Symptom_1</td>\n",
       "      <td>itching</td>\n",
       "      <td>1.0</td>\n",
       "    </tr>\n",
       "    <tr>\n",
       "      <th>3</th>\n",
       "      <td>Fungal infection</td>\n",
       "      <td>Symptom_1</td>\n",
       "      <td>itching</td>\n",
       "      <td>1.0</td>\n",
       "    </tr>\n",
       "    <tr>\n",
       "      <th>4</th>\n",
       "      <td>Fungal infection</td>\n",
       "      <td>Symptom_1</td>\n",
       "      <td>itching</td>\n",
       "      <td>1.0</td>\n",
       "    </tr>\n",
       "  </tbody>\n",
       "</table>\n",
       "</div>"
      ],
      "text/plain": [
       "            Disease Symptom_Type    Symptom  weight\n",
       "0  Fungal infection    Symptom_1    itching     1.0\n",
       "1  Fungal infection    Symptom_1  skin_rash     3.0\n",
       "2  Fungal infection    Symptom_1    itching     1.0\n",
       "3  Fungal infection    Symptom_1    itching     1.0\n",
       "4  Fungal infection    Symptom_1    itching     1.0"
      ]
     },
     "execution_count": 62,
     "metadata": {},
     "output_type": "execute_result"
    }
   ],
   "source": [
    "\n",
    "# Display first few rows\n",
    "df_long.head()"
   ]
  },
  {
   "cell_type": "markdown",
   "id": "84a0b8c0-8f93-4f56-a540-24dd6d103486",
   "metadata": {},
   "source": [
    "## Load and Inspect Processed Data"
   ]
  },
  {
   "cell_type": "code",
   "execution_count": 63,
   "id": "a24fdbd3-46a8-4a2e-a5aa-586ed9330a8d",
   "metadata": {},
   "outputs": [
    {
     "data": {
      "text/html": [
       "<div>\n",
       "<style scoped>\n",
       "    .dataframe tbody tr th:only-of-type {\n",
       "        vertical-align: middle;\n",
       "    }\n",
       "\n",
       "    .dataframe tbody tr th {\n",
       "        vertical-align: top;\n",
       "    }\n",
       "\n",
       "    .dataframe thead th {\n",
       "        text-align: right;\n",
       "    }\n",
       "</style>\n",
       "<table border=\"1\" class=\"dataframe\">\n",
       "  <thead>\n",
       "    <tr style=\"text-align: right;\">\n",
       "      <th></th>\n",
       "      <th>Disease</th>\n",
       "      <th>Symptom_Type</th>\n",
       "      <th>Symptom</th>\n",
       "      <th>weight</th>\n",
       "    </tr>\n",
       "  </thead>\n",
       "  <tbody>\n",
       "    <tr>\n",
       "      <th>0</th>\n",
       "      <td>Fungal infection</td>\n",
       "      <td>Symptom_1</td>\n",
       "      <td>itching</td>\n",
       "      <td>1.0</td>\n",
       "    </tr>\n",
       "    <tr>\n",
       "      <th>1</th>\n",
       "      <td>Fungal infection</td>\n",
       "      <td>Symptom_1</td>\n",
       "      <td>skin_rash</td>\n",
       "      <td>3.0</td>\n",
       "    </tr>\n",
       "    <tr>\n",
       "      <th>2</th>\n",
       "      <td>Fungal infection</td>\n",
       "      <td>Symptom_1</td>\n",
       "      <td>itching</td>\n",
       "      <td>1.0</td>\n",
       "    </tr>\n",
       "    <tr>\n",
       "      <th>3</th>\n",
       "      <td>Fungal infection</td>\n",
       "      <td>Symptom_1</td>\n",
       "      <td>itching</td>\n",
       "      <td>1.0</td>\n",
       "    </tr>\n",
       "    <tr>\n",
       "      <th>4</th>\n",
       "      <td>Fungal infection</td>\n",
       "      <td>Symptom_1</td>\n",
       "      <td>itching</td>\n",
       "      <td>1.0</td>\n",
       "    </tr>\n",
       "  </tbody>\n",
       "</table>\n",
       "</div>"
      ],
      "text/plain": [
       "            Disease Symptom_Type    Symptom  weight\n",
       "0  Fungal infection    Symptom_1    itching     1.0\n",
       "1  Fungal infection    Symptom_1  skin_rash     3.0\n",
       "2  Fungal infection    Symptom_1    itching     1.0\n",
       "3  Fungal infection    Symptom_1    itching     1.0\n",
       "4  Fungal infection    Symptom_1    itching     1.0"
      ]
     },
     "execution_count": 63,
     "metadata": {},
     "output_type": "execute_result"
    }
   ],
   "source": [
    "import pandas as pd\n",
    "\n",
    "# Load the processed dataset\n",
    "processed_file_path = \"../data/processed/disease_symptoms_severity.csv\"\n",
    "df_cleaned = pd.read_csv(processed_file_path)\n",
    "\n",
    "# Display first few rows\n",
    "df_cleaned.head()"
   ]
  },
  {
   "cell_type": "markdown",
   "id": "0b4bc4fe-07a4-4f61-aaea-90538ccd66f8",
   "metadata": {},
   "source": [
    "## Check for Missing Values and Duplicates"
   ]
  },
  {
   "cell_type": "code",
   "execution_count": 64,
   "id": "93c1505d-62a0-457c-892f-c901296cfb4e",
   "metadata": {},
   "outputs": [
    {
     "name": "stdout",
     "output_type": "stream",
     "text": [
      "Missing Values:\n",
      " Disease         0\n",
      "Symptom_Type    0\n",
      "Symptom         0\n",
      "weight          0\n",
      "dtype: int64\n",
      "\n",
      "Number of Duplicate Rows: 36160\n"
     ]
    }
   ],
   "source": [
    "# Check for missing values\n",
    "missing_values = df_cleaned.isnull().sum()\n",
    "\n",
    "# Check for duplicate rows\n",
    "duplicate_rows = df_cleaned.duplicated().sum()\n",
    "\n",
    "print(\"Missing Values:\\n\", missing_values)\n",
    "print(\"\\nNumber of Duplicate Rows:\", duplicate_rows)\n"
   ]
  },
  {
   "cell_type": "code",
   "execution_count": 65,
   "id": "bff0de8c-07b2-4800-b693-33f5a3d5340d",
   "metadata": {},
   "outputs": [
    {
     "name": "stdout",
     "output_type": "stream",
     "text": [
      "Shape after removing duplicates: (602, 4)\n"
     ]
    }
   ],
   "source": [
    "# Remove duplicate rows\n",
    "df_cleaned = df_cleaned.drop_duplicates()\n",
    "\n",
    "# Check the shape of the dataset after removing duplicates\n",
    "print(\"Shape after removing duplicates:\", df_cleaned.shape)\n",
    "\n",
    "# Save the cleaned data\n",
    "df_cleaned.to_csv(\"../data/processed/disease_symptoms_severity_cleaned.csv\", index=False)\n"
   ]
  },
  {
   "cell_type": "markdown",
   "id": "919b2d8e-5eb0-4ea3-a368-bb5b8f3fac55",
   "metadata": {},
   "source": [
    "## Check Data Distribution"
   ]
  },
  {
   "cell_type": "code",
   "execution_count": 66,
   "id": "3c1da0c7-dbe0-47f4-8407-4a3bcaaf58aa",
   "metadata": {},
   "outputs": [
    {
     "name": "stdout",
     "output_type": "stream",
     "text": [
      "Top 10 most common symptoms:\n",
      "Symptom\n",
      "fatigue              28\n",
      "vomiting             26\n",
      "high_fever           24\n",
      "nausea               20\n",
      "loss_of_appetite     20\n",
      "headache             19\n",
      "abdominal_pain       18\n",
      "yellowish_skin       16\n",
      "yellowing_of_eyes    14\n",
      "malaise              12\n",
      "Name: count, dtype: int64\n",
      "\n",
      "Top 10 diseases with most symptoms:\n",
      "Disease\n",
      "Common Cold       33\n",
      "Tuberculosis      31\n",
      "Dengue            27\n",
      "Hepatitis E       25\n",
      "Hypothyroidism    25\n",
      "Hypoglycemia      23\n",
      "Hepatitis B       23\n",
      "Chicken pox       21\n",
      "hepatitis A       21\n",
      "Pneumonia         21\n",
      "Name: count, dtype: int64\n"
     ]
    }
   ],
   "source": [
    "# Check the distribution of symptoms\n",
    "symptom_counts = df_cleaned[\"Symptom\"].value_counts()\n",
    "\n",
    "# Display top 10 most common symptoms\n",
    "print(\"Top 10 most common symptoms:\")\n",
    "print(symptom_counts.head(10))\n",
    "\n",
    "# Display top 10 diseases with the most symptom associations\n",
    "disease_counts = df_cleaned[\"Disease\"].value_counts()\n",
    "print(\"\\nTop 10 diseases with most symptoms:\")\n",
    "print(disease_counts.head(10))\n"
   ]
  },
  {
   "cell_type": "markdown",
   "id": "0e1eeb93-8634-4a80-9d3b-a83d5728af2b",
   "metadata": {},
   "source": [
    "## Encode Symptoms for ML Readiness"
   ]
  },
  {
   "cell_type": "code",
   "execution_count": 67,
   "id": "bc964c64-3f40-40cd-86f7-173e181aa057",
   "metadata": {},
   "outputs": [
    {
     "name": "stdout",
     "output_type": "stream",
     "text": [
      "✅ Encoded dataset saved at: ../data/processed/disease_symptom_encoded.csv\n"
     ]
    }
   ],
   "source": [
    "# Pivot table to create a structured dataset with binary encoding for symptoms\n",
    "df_encoded = df_cleaned.pivot_table(index=\"Disease\", columns=\"Symptom\", values=\"weight\", aggfunc=\"max\").fillna(0)\n",
    "\n",
    "\n",
    "\n",
    "# Reset index to bring Disease back as a column\n",
    "df_encoded.reset_index(inplace=True)\n",
    "\n",
    "\n",
    "# Ensure columns are in sorted order\n",
    "df_encoded = df_encoded.reindex(sorted(df_encoded.columns), axis=1)\n",
    "\n",
    "# Save the processed data\n",
    "df_encoded.to_csv(\"../data/processed/disease_symptom_encoded.csv\", index=False)\n",
    "\n",
    "print(\"✅ Encoded dataset saved at: ../data/processed/disease_symptom_encoded.csv\")"
   ]
  },
  {
   "cell_type": "code",
   "execution_count": null,
   "id": "02c0a885-ed04-437b-83c0-6248f8da6af9",
   "metadata": {},
   "outputs": [],
   "source": []
  },
  {
   "cell_type": "markdown",
   "id": "ea344472-c909-4e1e-8cc7-df11e849bd6b",
   "metadata": {},
   "source": [
    "## Data Augmentation"
   ]
  },
  {
   "cell_type": "code",
   "execution_count": 68,
   "id": "78c2a167-4495-4e24-8e09-ba6a34f7a3af",
   "metadata": {},
   "outputs": [
    {
     "name": "stdout",
     "output_type": "stream",
     "text": [
      "New dataset shape after augmentation: (205, 132)\n"
     ]
    }
   ],
   "source": [
    "import pandas as pd\n",
    "import numpy as np\n",
    "\n",
    "# Load data\n",
    "df = pd.read_csv(\"../data/processed/disease_symptom_encoded.csv\")\n",
    "\n",
    "# Set a minimum number of cases per disease (e.g., 5)\n",
    "min_cases = 5\n",
    "\n",
    "# Augment data\n",
    "augmented_data = []\n",
    "for disease, group in df.groupby(\"Disease\"):\n",
    "    if len(group) < min_cases:\n",
    "        additional_samples = group.sample(n=min_cases - len(group), replace=True)\n",
    "        # Slightly modify symptom severity to create variations\n",
    "        additional_samples.iloc[:, 1:] += np.random.randint(-1, 2, size=additional_samples.iloc[:, 1:].shape)\n",
    "        additional_samples.iloc[:, 1:] = additional_samples.iloc[:, 1:].clip(0, 1)  # ✅ Ensuring binary encoding\n",
    "        augmented_data.append(additional_samples)\n",
    "\n",
    "# Combine original and augmented data\n",
    "if augmented_data:\n",
    "    df = pd.concat([df] + augmented_data, ignore_index=True)\n",
    "\n",
    "# Save the augmented dataset\n",
    "df.to_csv(\"../data/processed/disease_symptom_encoded_augmented.csv\", index=False)\n",
    "\n",
    "print(f\"New dataset shape after augmentation: {df.shape}\")\n"
   ]
  },
  {
   "cell_type": "code",
   "execution_count": 69,
   "id": "f4fa8e9f-571b-4b91-8333-e30ae842e584",
   "metadata": {},
   "outputs": [
    {
     "name": "stdout",
     "output_type": "stream",
     "text": [
      "Disease\n",
      "(vertigo) Paroymsal  Positional Vertigo    5\n",
      "AIDS                                       5\n",
      "Acne                                       5\n",
      "Alcoholic hepatitis                        5\n",
      "Allergy                                    5\n",
      "Arthritis                                  5\n",
      "Bronchial Asthma                           5\n",
      "Cervical spondylosis                       5\n",
      "Chicken pox                                5\n",
      "Chronic cholestasis                        5\n",
      "Common Cold                                5\n",
      "Dengue                                     5\n",
      "Diabetes                                   5\n",
      "Dimorphic hemmorhoids(piles)               5\n",
      "Drug Reaction                              5\n",
      "Fungal infection                           5\n",
      "GERD                                       5\n",
      "Gastroenteritis                            5\n",
      "Heart attack                               5\n",
      "Hepatitis B                                5\n",
      "Hepatitis C                                5\n",
      "Hepatitis D                                5\n",
      "Hepatitis E                                5\n",
      "Hypertension                               5\n",
      "Hyperthyroidism                            5\n",
      "Hypoglycemia                               5\n",
      "Hypothyroidism                             5\n",
      "Impetigo                                   5\n",
      "Jaundice                                   5\n",
      "Malaria                                    5\n",
      "Migraine                                   5\n",
      "Osteoarthristis                            5\n",
      "Paralysis (brain hemorrhage)               5\n",
      "Peptic ulcer diseae                        5\n",
      "Pneumonia                                  5\n",
      "Psoriasis                                  5\n",
      "Tuberculosis                               5\n",
      "Typhoid                                    5\n",
      "Urinary tract infection                    5\n",
      "Varicose veins                             5\n",
      "hepatitis A                                5\n",
      "Name: count, dtype: int64\n"
     ]
    }
   ],
   "source": [
    "df = pd.read_csv(\"../data/processed/disease_symptom_encoded_augmented.csv\")\n",
    "\n",
    "# Check if all diseases now have at least 5 cases\n",
    "print(df[\"Disease\"].value_counts())\n"
   ]
  },
  {
   "cell_type": "code",
   "execution_count": 70,
   "id": "e80d9511-113a-4fd9-9207-14b7431d35ff",
   "metadata": {},
   "outputs": [
    {
     "data": {
      "text/html": [
       "<div>\n",
       "<style scoped>\n",
       "    .dataframe tbody tr th:only-of-type {\n",
       "        vertical-align: middle;\n",
       "    }\n",
       "\n",
       "    .dataframe tbody tr th {\n",
       "        vertical-align: top;\n",
       "    }\n",
       "\n",
       "    .dataframe thead th {\n",
       "        text-align: right;\n",
       "    }\n",
       "</style>\n",
       "<table border=\"1\" class=\"dataframe\">\n",
       "  <thead>\n",
       "    <tr style=\"text-align: right;\">\n",
       "      <th></th>\n",
       "      <th>Disease</th>\n",
       "      <th>abdominal_pain</th>\n",
       "      <th>abnormal_menstruation</th>\n",
       "      <th>acidity</th>\n",
       "      <th>acute_liver_failure</th>\n",
       "      <th>altered_sensorium</th>\n",
       "      <th>anxiety</th>\n",
       "      <th>back_pain</th>\n",
       "      <th>belly_pain</th>\n",
       "      <th>blackheads</th>\n",
       "      <th>...</th>\n",
       "      <th>vomiting</th>\n",
       "      <th>watering_from_eyes</th>\n",
       "      <th>weakness_in_limbs</th>\n",
       "      <th>weakness_of_one_body_side</th>\n",
       "      <th>weight_gain</th>\n",
       "      <th>weight_loss</th>\n",
       "      <th>yellow_crust_ooze</th>\n",
       "      <th>yellow_urine</th>\n",
       "      <th>yellowing_of_eyes</th>\n",
       "      <th>yellowish_skin</th>\n",
       "    </tr>\n",
       "  </thead>\n",
       "  <tbody>\n",
       "    <tr>\n",
       "      <th>0</th>\n",
       "      <td>(vertigo) Paroymsal  Positional Vertigo</td>\n",
       "      <td>0.0</td>\n",
       "      <td>0.0</td>\n",
       "      <td>0.0</td>\n",
       "      <td>0.0</td>\n",
       "      <td>0.0</td>\n",
       "      <td>0.0</td>\n",
       "      <td>0.0</td>\n",
       "      <td>0.0</td>\n",
       "      <td>0.0</td>\n",
       "      <td>...</td>\n",
       "      <td>5.0</td>\n",
       "      <td>0.0</td>\n",
       "      <td>0.0</td>\n",
       "      <td>0.0</td>\n",
       "      <td>0.0</td>\n",
       "      <td>0.0</td>\n",
       "      <td>0.0</td>\n",
       "      <td>0.0</td>\n",
       "      <td>0.0</td>\n",
       "      <td>0.0</td>\n",
       "    </tr>\n",
       "    <tr>\n",
       "      <th>1</th>\n",
       "      <td>AIDS</td>\n",
       "      <td>0.0</td>\n",
       "      <td>0.0</td>\n",
       "      <td>0.0</td>\n",
       "      <td>0.0</td>\n",
       "      <td>0.0</td>\n",
       "      <td>0.0</td>\n",
       "      <td>0.0</td>\n",
       "      <td>0.0</td>\n",
       "      <td>0.0</td>\n",
       "      <td>...</td>\n",
       "      <td>0.0</td>\n",
       "      <td>0.0</td>\n",
       "      <td>0.0</td>\n",
       "      <td>0.0</td>\n",
       "      <td>0.0</td>\n",
       "      <td>0.0</td>\n",
       "      <td>0.0</td>\n",
       "      <td>0.0</td>\n",
       "      <td>0.0</td>\n",
       "      <td>0.0</td>\n",
       "    </tr>\n",
       "    <tr>\n",
       "      <th>2</th>\n",
       "      <td>Acne</td>\n",
       "      <td>0.0</td>\n",
       "      <td>0.0</td>\n",
       "      <td>0.0</td>\n",
       "      <td>0.0</td>\n",
       "      <td>0.0</td>\n",
       "      <td>0.0</td>\n",
       "      <td>0.0</td>\n",
       "      <td>0.0</td>\n",
       "      <td>2.0</td>\n",
       "      <td>...</td>\n",
       "      <td>0.0</td>\n",
       "      <td>0.0</td>\n",
       "      <td>0.0</td>\n",
       "      <td>0.0</td>\n",
       "      <td>0.0</td>\n",
       "      <td>0.0</td>\n",
       "      <td>0.0</td>\n",
       "      <td>0.0</td>\n",
       "      <td>0.0</td>\n",
       "      <td>0.0</td>\n",
       "    </tr>\n",
       "    <tr>\n",
       "      <th>3</th>\n",
       "      <td>Alcoholic hepatitis</td>\n",
       "      <td>4.0</td>\n",
       "      <td>0.0</td>\n",
       "      <td>0.0</td>\n",
       "      <td>0.0</td>\n",
       "      <td>0.0</td>\n",
       "      <td>0.0</td>\n",
       "      <td>0.0</td>\n",
       "      <td>0.0</td>\n",
       "      <td>0.0</td>\n",
       "      <td>...</td>\n",
       "      <td>5.0</td>\n",
       "      <td>0.0</td>\n",
       "      <td>0.0</td>\n",
       "      <td>0.0</td>\n",
       "      <td>0.0</td>\n",
       "      <td>0.0</td>\n",
       "      <td>0.0</td>\n",
       "      <td>0.0</td>\n",
       "      <td>0.0</td>\n",
       "      <td>3.0</td>\n",
       "    </tr>\n",
       "    <tr>\n",
       "      <th>4</th>\n",
       "      <td>Allergy</td>\n",
       "      <td>0.0</td>\n",
       "      <td>0.0</td>\n",
       "      <td>0.0</td>\n",
       "      <td>0.0</td>\n",
       "      <td>0.0</td>\n",
       "      <td>0.0</td>\n",
       "      <td>0.0</td>\n",
       "      <td>0.0</td>\n",
       "      <td>0.0</td>\n",
       "      <td>...</td>\n",
       "      <td>0.0</td>\n",
       "      <td>4.0</td>\n",
       "      <td>0.0</td>\n",
       "      <td>0.0</td>\n",
       "      <td>0.0</td>\n",
       "      <td>0.0</td>\n",
       "      <td>0.0</td>\n",
       "      <td>0.0</td>\n",
       "      <td>0.0</td>\n",
       "      <td>0.0</td>\n",
       "    </tr>\n",
       "  </tbody>\n",
       "</table>\n",
       "<p>5 rows × 132 columns</p>\n",
       "</div>"
      ],
      "text/plain": [
       "                                   Disease  abdominal_pain  \\\n",
       "0  (vertigo) Paroymsal  Positional Vertigo             0.0   \n",
       "1                                     AIDS             0.0   \n",
       "2                                     Acne             0.0   \n",
       "3                      Alcoholic hepatitis             4.0   \n",
       "4                                  Allergy             0.0   \n",
       "\n",
       "   abnormal_menstruation  acidity  acute_liver_failure  altered_sensorium  \\\n",
       "0                    0.0      0.0                  0.0                0.0   \n",
       "1                    0.0      0.0                  0.0                0.0   \n",
       "2                    0.0      0.0                  0.0                0.0   \n",
       "3                    0.0      0.0                  0.0                0.0   \n",
       "4                    0.0      0.0                  0.0                0.0   \n",
       "\n",
       "   anxiety  back_pain  belly_pain  blackheads  ...  vomiting  \\\n",
       "0      0.0        0.0         0.0         0.0  ...       5.0   \n",
       "1      0.0        0.0         0.0         0.0  ...       0.0   \n",
       "2      0.0        0.0         0.0         2.0  ...       0.0   \n",
       "3      0.0        0.0         0.0         0.0  ...       5.0   \n",
       "4      0.0        0.0         0.0         0.0  ...       0.0   \n",
       "\n",
       "   watering_from_eyes  weakness_in_limbs  weakness_of_one_body_side  \\\n",
       "0                 0.0                0.0                        0.0   \n",
       "1                 0.0                0.0                        0.0   \n",
       "2                 0.0                0.0                        0.0   \n",
       "3                 0.0                0.0                        0.0   \n",
       "4                 4.0                0.0                        0.0   \n",
       "\n",
       "   weight_gain  weight_loss  yellow_crust_ooze  yellow_urine  \\\n",
       "0          0.0          0.0                0.0           0.0   \n",
       "1          0.0          0.0                0.0           0.0   \n",
       "2          0.0          0.0                0.0           0.0   \n",
       "3          0.0          0.0                0.0           0.0   \n",
       "4          0.0          0.0                0.0           0.0   \n",
       "\n",
       "   yellowing_of_eyes  yellowish_skin  \n",
       "0                0.0             0.0  \n",
       "1                0.0             0.0  \n",
       "2                0.0             0.0  \n",
       "3                0.0             3.0  \n",
       "4                0.0             0.0  \n",
       "\n",
       "[5 rows x 132 columns]"
      ]
     },
     "execution_count": 70,
     "metadata": {},
     "output_type": "execute_result"
    }
   ],
   "source": [
    "df.head()"
   ]
  },
  {
   "cell_type": "markdown",
   "id": "0396c384-d574-4d81-bf70-56476fca4f8d",
   "metadata": {},
   "source": [
    "## Define Features (X) and Target (y)"
   ]
  },
  {
   "cell_type": "code",
   "execution_count": 71,
   "id": "336a941f-6f1a-4b7e-9a15-4d93463e5c76",
   "metadata": {
    "scrolled": true
   },
   "outputs": [
    {
     "name": "stdout",
     "output_type": "stream",
     "text": [
      "Training set shape: (164, 131)\n",
      "Test set shape: (41, 131)\n"
     ]
    }
   ],
   "source": [
    "import pandas as pd\n",
    "from sklearn.model_selection import train_test_split\n",
    "\n",
    "# Load the augmented dataset\n",
    "df = pd.read_csv(\"../data/processed/disease_symptom_encoded_augmented.csv\")\n",
    "\n",
    "# Define Features & Target\n",
    "X = df.drop(columns=[\"Disease\"])  # Features\n",
    "y = df[\"Disease\"]  # Target\n",
    "\n",
    "# Train-Test Split (80-20)\n",
    "X_train, X_test, y_train, y_test = train_test_split(\n",
    "    X, y, test_size=0.2, stratify=y, random_state=42\n",
    ")\n",
    "\n",
    "# Save split datasets\n",
    "X_train.to_csv(\"../data/processed/X_train.csv\", index=False)\n",
    "X_test.to_csv(\"../data/processed/X_test.csv\", index=False)\n",
    "y_train.to_csv(\"../data/processed/y_train.csv\", index=False)\n",
    "y_test.to_csv(\"../data/processed/y_test.csv\", index=False)\n",
    "\n",
    "# Print shapes to verify\n",
    "print(\"Training set shape:\", X_train.shape)\n",
    "print(\"Test set shape:\", X_test.shape)\n"
   ]
  },
  {
   "cell_type": "code",
   "execution_count": null,
   "id": "0b15286f-6880-441a-9d1d-65c1746fba45",
   "metadata": {},
   "outputs": [],
   "source": []
  }
 ],
 "metadata": {
  "kernelspec": {
   "display_name": "Python (Healthcare LLM)",
   "language": "python",
   "name": "healthcare_venv"
  },
  "language_info": {
   "codemirror_mode": {
    "name": "ipython",
    "version": 3
   },
   "file_extension": ".py",
   "mimetype": "text/x-python",
   "name": "python",
   "nbconvert_exporter": "python",
   "pygments_lexer": "ipython3",
   "version": "3.12.4"
  }
 },
 "nbformat": 4,
 "nbformat_minor": 5
}
