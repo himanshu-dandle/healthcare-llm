{
 "cells": [
  {
   "cell_type": "markdown",
   "id": "5a0a8761-a312-4619-b03f-f2deac6a6494",
   "metadata": {},
   "source": [
    "## Load Data & Check for Missing Values"
   ]
  },
  {
   "cell_type": "code",
   "execution_count": 5,
   "id": "da993df4-4127-4d39-9ac7-24ab558ec004",
   "metadata": {},
   "outputs": [
    {
     "name": "stdout",
     "output_type": "stream",
     "text": [
      "Missing values in X_train: 0\n",
      "Missing values in y_train: 0\n",
      "Missing values in X_test: 0\n",
      "Missing values in y_test: 0\n",
      "Training Features: (164, 131), Training Labels: (164, 1)\n",
      "Testing Features: (41, 131), Testing Labels: (41, 1)\n"
     ]
    }
   ],
   "source": [
    "import pandas as pd\n",
    "import numpy as np\n",
    "from sklearn.model_selection import train_test_split\n",
    "\n",
    "# Load the preprocessed dataset\n",
    "X_train = pd.read_csv(\"../data/processed/X_train.csv\")\n",
    "y_train = pd.read_csv(\"../data/processed/y_train.csv\")\n",
    "X_test = pd.read_csv(\"../data/processed/X_test.csv\")\n",
    "y_test = pd.read_csv(\"../data/processed/y_test.csv\")\n",
    "\n",
    "# Check for missing values\n",
    "print(f\"Missing values in X_train: {X_train.isnull().sum().sum()}\")\n",
    "print(f\"Missing values in y_train: {y_train.isnull().sum().sum()}\")\n",
    "print(f\"Missing values in X_test: {X_test.isnull().sum().sum()}\")\n",
    "print(f\"Missing values in y_test: {y_test.isnull().sum().sum()}\")\n",
    "\n",
    "# Display shape\n",
    "print(f\"Training Features: {X_train.shape}, Training Labels: {y_train.shape}\")\n",
    "print(f\"Testing Features: {X_test.shape}, Testing Labels: {y_test.shape}\")\n"
   ]
  },
  {
   "cell_type": "markdown",
   "id": "204d840d-e218-4ce1-8e82-9983c3cdd33e",
   "metadata": {},
   "source": [
    "## Train the Random Forest Model"
   ]
  },
  {
   "cell_type": "code",
   "execution_count": 6,
   "id": "8576c597-37b1-4fe7-aaea-2b2580a5113c",
   "metadata": {},
   "outputs": [
    {
     "name": "stdout",
     "output_type": "stream",
     "text": [
      "Model Accuracy: 1.0000\n",
      "                                         precision    recall  f1-score   support\n",
      "\n",
      "(vertigo) Paroymsal  Positional Vertigo       1.00      1.00      1.00         1\n",
      "                                   AIDS       1.00      1.00      1.00         1\n",
      "                                   Acne       1.00      1.00      1.00         1\n",
      "                    Alcoholic hepatitis       1.00      1.00      1.00         1\n",
      "                                Allergy       1.00      1.00      1.00         1\n",
      "                              Arthritis       1.00      1.00      1.00         1\n",
      "                       Bronchial Asthma       1.00      1.00      1.00         1\n",
      "                   Cervical spondylosis       1.00      1.00      1.00         1\n",
      "                            Chicken pox       1.00      1.00      1.00         1\n",
      "                    Chronic cholestasis       1.00      1.00      1.00         1\n",
      "                            Common Cold       1.00      1.00      1.00         1\n",
      "                                 Dengue       1.00      1.00      1.00         1\n",
      "                              Diabetes        1.00      1.00      1.00         1\n",
      "           Dimorphic hemmorhoids(piles)       1.00      1.00      1.00         1\n",
      "                          Drug Reaction       1.00      1.00      1.00         1\n",
      "                       Fungal infection       1.00      1.00      1.00         1\n",
      "                                   GERD       1.00      1.00      1.00         1\n",
      "                        Gastroenteritis       1.00      1.00      1.00         1\n",
      "                           Heart attack       1.00      1.00      1.00         1\n",
      "                            Hepatitis B       1.00      1.00      1.00         1\n",
      "                            Hepatitis C       1.00      1.00      1.00         1\n",
      "                            Hepatitis D       1.00      1.00      1.00         1\n",
      "                            Hepatitis E       1.00      1.00      1.00         1\n",
      "                          Hypertension        1.00      1.00      1.00         1\n",
      "                        Hyperthyroidism       1.00      1.00      1.00         1\n",
      "                           Hypoglycemia       1.00      1.00      1.00         1\n",
      "                         Hypothyroidism       1.00      1.00      1.00         1\n",
      "                               Impetigo       1.00      1.00      1.00         1\n",
      "                               Jaundice       1.00      1.00      1.00         1\n",
      "                                Malaria       1.00      1.00      1.00         1\n",
      "                               Migraine       1.00      1.00      1.00         1\n",
      "                        Osteoarthristis       1.00      1.00      1.00         1\n",
      "           Paralysis (brain hemorrhage)       1.00      1.00      1.00         1\n",
      "                    Peptic ulcer diseae       1.00      1.00      1.00         1\n",
      "                              Pneumonia       1.00      1.00      1.00         1\n",
      "                              Psoriasis       1.00      1.00      1.00         1\n",
      "                           Tuberculosis       1.00      1.00      1.00         1\n",
      "                                Typhoid       1.00      1.00      1.00         1\n",
      "                Urinary tract infection       1.00      1.00      1.00         1\n",
      "                         Varicose veins       1.00      1.00      1.00         1\n",
      "                            hepatitis A       1.00      1.00      1.00         1\n",
      "\n",
      "                               accuracy                           1.00        41\n",
      "                              macro avg       1.00      1.00      1.00        41\n",
      "                           weighted avg       1.00      1.00      1.00        41\n",
      "\n"
     ]
    }
   ],
   "source": [
    "from sklearn.ensemble import RandomForestClassifier\n",
    "from sklearn.metrics import accuracy_score, classification_report\n",
    "\n",
    "# Initialize the model\n",
    "model = RandomForestClassifier(n_estimators=100, random_state=42)\n",
    "\n",
    "# Train the model\n",
    "model.fit(X_train, y_train.values.ravel())\n",
    "\n",
    "# Predictions\n",
    "y_pred = model.predict(X_test)\n",
    "\n",
    "# Model evaluation\n",
    "accuracy = accuracy_score(y_test, y_pred)\n",
    "print(f\"Model Accuracy: {accuracy:.4f}\")\n",
    "\n",
    "# Detailed classification report\n",
    "print(classification_report(y_test, y_pred))\n"
   ]
  },
  {
   "cell_type": "markdown",
   "id": "5167b0ed-5350-4690-b67c-cfe4be0eaf61",
   "metadata": {},
   "source": [
    "## Perform Leave-One-Out Cross-Validation (LOOCV)"
   ]
  },
  {
   "cell_type": "code",
   "execution_count": 7,
   "id": "c7689d40-43fa-4725-947b-b9523b833464",
   "metadata": {},
   "outputs": [
    {
     "name": "stdout",
     "output_type": "stream",
     "text": [
      "Mean LOOCV Accuracy: 0.9817073170731707\n"
     ]
    }
   ],
   "source": [
    "from sklearn.model_selection import LeaveOneOut, cross_val_score\n",
    "\n",
    "loo = LeaveOneOut()\n",
    "cv_scores = cross_val_score(model, X_train, y_train.values.ravel(), cv=loo, scoring=\"accuracy\")\n",
    "\n",
    "print(\"Mean LOOCV Accuracy:\", cv_scores.mean())\n"
   ]
  },
  {
   "cell_type": "markdown",
   "id": "cff555a5-a323-41fe-b373-2623d478ffab",
   "metadata": {},
   "source": [
    "## feature Importance Visualization"
   ]
  },
  {
   "cell_type": "code",
   "execution_count": 8,
   "id": "439b72c7-45f0-44e1-b661-97b65b1b0524",
   "metadata": {},
   "outputs": [
    {
     "name": "stderr",
     "output_type": "stream",
     "text": [
      "C:\\Users\\Himanshu\\AppData\\Local\\Temp\\ipykernel_41124\\2366233738.py:10: FutureWarning: \n",
      "\n",
      "Passing `palette` without assigning `hue` is deprecated and will be removed in v0.14.0. Assign the `y` variable to `hue` and set `legend=False` for the same effect.\n",
      "\n",
      "  sns.barplot(x=importances[:15], y=importances.index[:15], palette=\"coolwarm\")\n"
     ]
    },
    {
     "data": {
      "image/png": "[encoded data removed]",
      "text/plain": [
       "<Figure size 1200x600 with 1 Axes>"
      ]
     },
     "metadata": {},
     "output_type": "display_data"
    }
   ],
   "source": [
    "import matplotlib.pyplot as plt\n",
    "import seaborn as sns\n",
    "\n",
    "# Get feature importances\n",
    "importances = pd.Series(model.feature_importances_, index=X_train.columns)\n",
    "importances = importances.sort_values(ascending=False)\n",
    "\n",
    "# Plot feature importances\n",
    "plt.figure(figsize=(12, 6))\n",
    "sns.barplot(x=importances[:15], y=importances.index[:15], palette=\"coolwarm\")\n",
    "plt.xlabel(\"Feature Importance Score\")\n",
    "plt.ylabel(\"Symptoms\")\n",
    "plt.title(\"Top 15 Most Important Symptoms in Prediction\")\n",
    "plt.grid(axis='x')\n",
    "plt.show()\n"
   ]
  },
  {
   "cell_type": "markdown",
   "id": "42fdfc0a-1aad-4cea-af83-ad16b0079bf8",
   "metadata": {},
   "source": [
    "##  Save the Mode"
   ]
  },
  {
   "cell_type": "code",
   "execution_count": 9,
   "id": "22ef16a8-a816-461b-a600-063dfb3e3de7",
   "metadata": {},
   "outputs": [
    {
     "name": "stdout",
     "output_type": "stream",
     "text": [
      "\n",
      "💾 Model saved as: ../models\\disease_prediction_model.pkl\n"
     ]
    }
   ],
   "source": [
    "import os\n",
    "import joblib\n",
    "\n",
    "# Ensure models directory exists\n",
    "model_dir = \"../models\"\n",
    "os.makedirs(model_dir, exist_ok=True)\n",
    "\n",
    "# Save the trained model\n",
    "model_path = os.path.join(model_dir, \"disease_prediction_model.pkl\")\n",
    "joblib.dump(model, model_path)\n",
    "print(f\"\\n💾 Model saved as: {model_path}\")\n"
   ]
  },
  {
   "cell_type": "markdown",
   "id": "e7f74961-1a6e-486d-8e60-9e52d46da2e9",
   "metadata": {},
   "source": [
    "## Disease Prediction Example"
   ]
  },
  {
   "cell_type": "code",
   "execution_count": 10,
   "id": "32ffbef9-9cad-46ad-a6d4-ab733154b88d",
   "metadata": {},
   "outputs": [
    {
     "name": "stdout",
     "output_type": "stream",
     "text": [
      "🩺 Predicted Disease: Allergy\n"
     ]
    }
   ],
   "source": [
    "import pandas as pd\n",
    "\n",
    "# Load model\n",
    "model = joblib.load(\"../models/disease_prediction_model.pkl\")\n",
    "\n",
    "# Load symptom encoding\n",
    "df = pd.read_csv(\"../data/processed/disease_symptom_encoded_augmented.csv\")\n",
    "symptom_columns = df.columns[1:]  # Exclude \"Disease\"\n",
    "\n",
    "# Define input symptoms\n",
    "input_symptoms = [\"chest_pain\", \"high_fever\", \"cough\"]\n",
    "\n",
    "# Check for missing symptoms\n",
    "missing_symptoms = [symptom for symptom in input_symptoms if symptom not in symptom_columns]\n",
    "if missing_symptoms:\n",
    "    print(f\"⚠ Warning: These symptoms are not in the dataset: {missing_symptoms}\")\n",
    "\n",
    "# Encode symptoms as input vector\n",
    "input_vector = pd.DataFrame([[0] * len(symptom_columns)], columns=symptom_columns)\n",
    "for symptom in input_symptoms:\n",
    "    if symptom in input_vector.columns:\n",
    "        input_vector[symptom] = 1\n",
    "\n",
    "# Predict disease\n",
    "predicted_disease = model.predict(input_vector)[0]\n",
    "print(f\"🩺 Predicted Disease: {predicted_disease}\")\n"
   ]
  },
  {
   "cell_type": "code",
   "execution_count": 11,
   "id": "96b6bdb8-339e-46a9-8929-0254890e90bc",
   "metadata": {},
   "outputs": [
    {
     "name": "stdout",
     "output_type": "stream",
     "text": [
      "Dataset shape after augmentation: (205, 132)\n",
      "Duplicate rows found: 0\n"
     ]
    }
   ],
   "source": [
    "df = pd.read_csv(\"../data/processed/disease_symptom_encoded_augmented.csv\")\n",
    "print(f\"Dataset shape after augmentation: {df.shape}\")\n",
    "\n",
    "# Check for duplicate rows\n",
    "print(f\"Duplicate rows found: {df.duplicated().sum()}\")\n"
   ]
  },
  {
   "cell_type": "code",
   "execution_count": null,
   "id": "faf348b6-a265-4d46-8706-24f76a45c99f",
   "metadata": {},
   "outputs": [],
   "source": []
  }
 ],
 "metadata": {
  "kernelspec": {
   "display_name": "Python (Healthcare LLM)",
   "language": "python",
   "name": "healthcare_venv"
  },
  "language_info": {
   "codemirror_mode": {
    "name": "ipython",
    "version": 3
   },
   "file_extension": ".py",
   "mimetype": "text/x-python",
   "name": "python",
   "nbconvert_exporter": "python",
   "pygments_lexer": "ipython3",
   "version": "3.12.4"
  }
 },
 "nbformat": 4,
 "nbformat_minor": 5
}
